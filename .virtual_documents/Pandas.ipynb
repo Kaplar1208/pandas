print("Hello world!")








import pandas as pd
import os
from pathlib import Path

base_path = Path().resolve()

pokemon_data = base_path / 'archivos' / 'pokemon_data.csv'

df = pd.read_csv(pokemon_data)


# Leer primeras 5 filas de la tabla
df.head()


# Leer ultimas 5 filas de la tabla
df.tail()


# Leer encabezados
df.columns


# Leer una columna
df['Name']


# Leer una columna con una lista
df[['Name', 'Type 1', 'HP']]



