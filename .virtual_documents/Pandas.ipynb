print("Hello world!")








import pandas as pd
import os
from pathlib import Path
import sys

try:
    # Si estamos en JupyterLab o script
    base_path = Path(__file__).parent.resolve()
except NameError:
    # Estamos en Colab o Notebook
    if 'google.colab' in sys.modules:
        # En Colab, asumimos que ya clonaste el repositorio
        base_path = Path('https://github.com/Kaplar1208/pandas.git').resolve()
    else:
        # En Jupyter Notebook local (no Colab)
        base_path = Path().resolve()

pokemon_data = base_path / 'archivos' / 'pokemon_data.csv'

df = pd.read_csv(pokemon_data)


# Leer primeras 5 filas de la tabla
df.head()


# Leer ultimas 5 filas de la tabla
df.tail()


# Leer encabezados
df.columns


# Leer una columna
df['Name']


# Leer una columna con una lista
df[['Name', 'Type 1', 'HP']]






