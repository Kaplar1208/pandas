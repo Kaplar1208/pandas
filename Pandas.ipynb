{
 "cells": [
  {
   "cell_type": "code",
   "execution_count": 1,
   "id": "f0873aab-3335-4ca6-b277-214f413be30a",
   "metadata": {},
   "outputs": [
    {
     "name": "stdout",
     "output_type": "stream",
     "text": [
      "Hello world!\n"
     ]
    }
   ],
   "source": [
    "print(\"Hello world!\")"
   ]
  },
  {
   "cell_type": "markdown",
   "id": "d7f9d531-1ea5-42e8-a279-fb3c5604667f",
   "metadata": {},
   "source": [
    "# Encabezado Prueba"
   ]
  },
  {
   "cell_type": "markdown",
   "id": "f9d6f1bd-cdca-4a8b-814e-ec1560cbd241",
   "metadata": {},
   "source": [
    "Nuevo texto"
   ]
  },
  {
   "cell_type": "code",
   "execution_count": null,
   "id": "d2b1efd0-f526-43b9-b15e-452f5e540bb7",
   "metadata": {},
   "outputs": [],
   "source": []
  }
 ],
 "metadata": {
  "kernelspec": {
   "display_name": "Python 3 (ipykernel)",
   "language": "python",
   "name": "python3"
  },
  "language_info": {
   "codemirror_mode": {
    "name": "ipython",
    "version": 3
   },
   "file_extension": ".py",
   "mimetype": "text/x-python",
   "name": "python",
   "nbconvert_exporter": "python",
   "pygments_lexer": "ipython3",
   "version": "3.12.3"
  }
 },
 "nbformat": 4,
 "nbformat_minor": 5
}
